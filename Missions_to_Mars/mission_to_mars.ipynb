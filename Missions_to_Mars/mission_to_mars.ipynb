{
 "cells": [
  {
   "cell_type": "code",
   "execution_count": 21,
   "metadata": {},
   "outputs": [],
   "source": [
    "#import dependencies\n",
    "import pymongo\n",
    "import pandas as pd\n",
    "from bs4 import BeautifulSoup as bs\n",
    "from splinter import Browser\n",
    "from splinter.exceptions import ElementDoesNotExist\n",
    "import requests\n",
    "import time"
   ]
  },
  {
   "cell_type": "code",
   "execution_count": 22,
   "metadata": {},
   "outputs": [],
   "source": [
    "#enable chrome browser\n",
    "executable_path = {'executable_path': 'chromedriver.exe'}\n",
    "browser = Browser('chrome', **executable_path, headless=True)"
   ]
  },
  {
   "cell_type": "code",
   "execution_count": 23,
   "metadata": {},
   "outputs": [],
   "source": [
    "#assign URLs\n",
    "nasa_url= 'https://mars.nasa.gov/news/'\n",
    "jpl_image_url = 'https://www.jpl.nasa.gov/spaceimages/?search=&category=Mars'\n",
    "nasa_twitter_url = 'https://twitter.com/marswxreport?lang=en'\n",
    "mars_facts_url = 'https://space-facts.com/mars/'\n",
    "usgs_image_url = 'https://astrogeology.usgs.gov/search/results?q=hemisphere+enhanced&k1=target&v1=Mars'"
   ]
  },
  {
   "cell_type": "markdown",
   "metadata": {},
   "source": [
    "## Retrieve NASA MARS News"
   ]
  },
  {
   "cell_type": "code",
   "execution_count": 24,
   "metadata": {},
   "outputs": [],
   "source": [
    "#retrieve the page using requests\n",
    "#nasa_response = requests.get(nasa_url)\n",
    "browser.visit(nasa_url)\n",
    "time.sleep(3)\n",
    "nasa_response = browser.html\n",
    "\n",
    "#create a soup variable for nasa url\n",
    "nasa_soup = bs(nasa_response, 'lxml')"
   ]
  },
  {
   "cell_type": "code",
   "execution_count": 25,
   "metadata": {},
   "outputs": [],
   "source": [
    "nasa_results = nasa_soup.find('li', class_='slide')"
   ]
  },
  {
   "cell_type": "code",
   "execution_count": 26,
   "metadata": {},
   "outputs": [
    {
     "name": "stdout",
     "output_type": "stream",
     "text": [
      "Article Title: \n",
      "NASA's Perseverance Rover Will Look at Mars Through These 'Eyes' \n",
      "\n",
      "Article_Description: \n",
      "A pair of zoomable cameras will help scientists and rover drivers with high-resolution color images.\n"
     ]
    }
   ],
   "source": [
    "for x in nasa_results:\n",
    "    news_body = x.find('div', class_='rollover_description_inner').text\n",
    "    news_title = x.find('div', class_= 'content_title').text\n",
    "\n",
    "print(f\"Article Title: \\n{news_title} \\n\\nArticle_Description: \\n{news_body}\")"
   ]
  },
  {
   "cell_type": "markdown",
   "metadata": {},
   "source": [
    "## Retrieve JPL Image"
   ]
  },
  {
   "cell_type": "code",
   "execution_count": 27,
   "metadata": {},
   "outputs": [],
   "source": [
    "base_url = 'https://jpl.nasa.gov'\n",
    "browser.visit(jpl_image_url)\n",
    "jpl_response = browser.html\n",
    "\n",
    "#create a soup variable for nasa url\n",
    "jpl_soup = bs(jpl_response, 'lxml')"
   ]
  },
  {
   "cell_type": "code",
   "execution_count": 28,
   "metadata": {},
   "outputs": [],
   "source": [
    "browser.click_link_by_id('full_image')"
   ]
  },
  {
   "cell_type": "code",
   "execution_count": 29,
   "metadata": {},
   "outputs": [],
   "source": [
    "browser.click_link_by_partial_text('more info')"
   ]
  },
  {
   "cell_type": "code",
   "execution_count": 30,
   "metadata": {},
   "outputs": [],
   "source": [
    "#reset html and soup\n",
    "jpl_response = browser.html\n",
    "jpl_soup = bs(jpl_response, 'lxml')"
   ]
  },
  {
   "cell_type": "code",
   "execution_count": 31,
   "metadata": {},
   "outputs": [
    {
     "name": "stdout",
     "output_type": "stream",
     "text": [
      "https://jpl.nasa.gov/spaceimages/images/largesize/PIA16029_hires.jpg\n"
     ]
    }
   ],
   "source": [
    "images = jpl_soup.find_all('img', class_='main_image')\n",
    "\n",
    "for image in images:\n",
    "    jpl_image = base_url + image['src']\n",
    "    \n",
    "browser.visit(jpl_image)    \n",
    "print(jpl_image)"
   ]
  },
  {
   "cell_type": "markdown",
   "metadata": {},
   "source": [
    "## Retrieve MARS Weather"
   ]
  },
  {
   "cell_type": "code",
   "execution_count": 32,
   "metadata": {},
   "outputs": [],
   "source": [
    "#use requests to navigate to nasa twitter url\n",
    "response = requests.get(nasa_twitter_url)\n",
    "twitter_soup = bs(response.text, 'lxml')\n",
    "\n",
    "#create list to store tweets\n",
    "tweets = []"
   ]
  },
  {
   "cell_type": "code",
   "execution_count": 33,
   "metadata": {},
   "outputs": [
    {
     "name": "stdout",
     "output_type": "stream",
     "text": [
      "On this day in 1982, the @weatherchannel  went on the air.pic.twitter.com/nP22EkDLVw\n"
     ]
    }
   ],
   "source": [
    "#loop through content and store tweets in tweets list\n",
    "for tweet in twitter_soup.find_all('div', class_='content'):\n",
    "    tweets.append(tweet.find('div',class_='js-tweet-text-container').find('p').text)\n",
    "\n",
    "#assign 1st tweet to mars weather variable\n",
    "    mars_weather = tweets[0]\n",
    "print(mars_weather)"
   ]
  },
  {
   "cell_type": "markdown",
   "metadata": {},
   "source": [
    "## Retrieve MARS Facts"
   ]
  },
  {
   "cell_type": "code",
   "execution_count": 34,
   "metadata": {},
   "outputs": [
    {
     "data": {
      "text/html": [
       "<div>\n",
       "<style scoped>\n",
       "    .dataframe tbody tr th:only-of-type {\n",
       "        vertical-align: middle;\n",
       "    }\n",
       "\n",
       "    .dataframe tbody tr th {\n",
       "        vertical-align: top;\n",
       "    }\n",
       "\n",
       "    .dataframe thead th {\n",
       "        text-align: right;\n",
       "    }\n",
       "</style>\n",
       "<table border=\"1\" class=\"dataframe\">\n",
       "  <thead>\n",
       "    <tr style=\"text-align: right;\">\n",
       "      <th></th>\n",
       "      <th>0</th>\n",
       "      <th>1</th>\n",
       "    </tr>\n",
       "  </thead>\n",
       "  <tbody>\n",
       "    <tr>\n",
       "      <td>0</td>\n",
       "      <td>Equatorial Diameter:</td>\n",
       "      <td>6,792 km</td>\n",
       "    </tr>\n",
       "    <tr>\n",
       "      <td>1</td>\n",
       "      <td>Polar Diameter:</td>\n",
       "      <td>6,752 km</td>\n",
       "    </tr>\n",
       "    <tr>\n",
       "      <td>2</td>\n",
       "      <td>Mass:</td>\n",
       "      <td>6.39 × 10^23 kg (0.11 Earths)</td>\n",
       "    </tr>\n",
       "    <tr>\n",
       "      <td>3</td>\n",
       "      <td>Moons:</td>\n",
       "      <td>2 (Phobos &amp; Deimos)</td>\n",
       "    </tr>\n",
       "    <tr>\n",
       "      <td>4</td>\n",
       "      <td>Orbit Distance:</td>\n",
       "      <td>227,943,824 km (1.38 AU)</td>\n",
       "    </tr>\n",
       "    <tr>\n",
       "      <td>5</td>\n",
       "      <td>Orbit Period:</td>\n",
       "      <td>687 days (1.9 years)</td>\n",
       "    </tr>\n",
       "    <tr>\n",
       "      <td>6</td>\n",
       "      <td>Surface Temperature:</td>\n",
       "      <td>-87 to -5 °C</td>\n",
       "    </tr>\n",
       "    <tr>\n",
       "      <td>7</td>\n",
       "      <td>First Record:</td>\n",
       "      <td>2nd millennium BC</td>\n",
       "    </tr>\n",
       "    <tr>\n",
       "      <td>8</td>\n",
       "      <td>Recorded By:</td>\n",
       "      <td>Egyptian astronomers</td>\n",
       "    </tr>\n",
       "  </tbody>\n",
       "</table>\n",
       "</div>"
      ],
      "text/plain": [
       "                      0                              1\n",
       "0  Equatorial Diameter:                       6,792 km\n",
       "1       Polar Diameter:                       6,752 km\n",
       "2                 Mass:  6.39 × 10^23 kg (0.11 Earths)\n",
       "3                Moons:            2 (Phobos & Deimos)\n",
       "4       Orbit Distance:       227,943,824 km (1.38 AU)\n",
       "5         Orbit Period:           687 days (1.9 years)\n",
       "6  Surface Temperature:                   -87 to -5 °C\n",
       "7         First Record:              2nd millennium BC\n",
       "8          Recorded By:           Egyptian astronomers"
      ]
     },
     "execution_count": 34,
     "metadata": {},
     "output_type": "execute_result"
    }
   ],
   "source": [
    "#use pandas read_html to pull the tables from this webpage\n",
    "facts_tables = pd.read_html(mars_facts_url)\n",
    "\n",
    "#set 1st index as dataframe\n",
    "facts_df = facts_tables[0]\n",
    "\n",
    "#set 1st column as df index\n",
    "facts_df.set_index([0])\n",
    "\n",
    "#convert and export data frame to HTML file\n",
    "html = facts_df.to_html(index = True, header = False)\n",
    "\n",
    "facts_df"
   ]
  },
  {
   "cell_type": "markdown",
   "metadata": {},
   "source": [
    "## Mars Hemispheres"
   ]
  },
  {
   "cell_type": "code",
   "execution_count": 35,
   "metadata": {},
   "outputs": [],
   "source": [
    "#nasa_response = requests.get(nasa_url)\n",
    "base_url = 'https://astrogeology.usgs.gov/'\n",
    "browser.visit(usgs_image_url)\n",
    "usgs_response = browser.html\n",
    "\n",
    "#create a soup variable for nasa url\n",
    "usgs_soup = bs(usgs_response, 'lxml')"
   ]
  },
  {
   "cell_type": "code",
   "execution_count": 40,
   "metadata": {},
   "outputs": [
    {
     "name": "stdout",
     "output_type": "stream",
     "text": [
      "Cerberus Hemisphere Enhanced\n",
      "Schiaparelli Hemisphere Enhanced\n",
      "Syrtis Major Hemisphere Enhanced\n",
      "Valles Marineris Hemisphere Enhanced\n"
     ]
    }
   ],
   "source": [
    "#create lists to store data\n",
    "title = []\n",
    "url = []\n",
    "img_url = []\n",
    "\n",
    "#pull title names and append to title list\n",
    "for item in usgs_soup.find_all('div', class_='item'):\n",
    "    title.append(item.find('h3').text)    \n",
    "\n",
    "#print titles\n",
    "for x in title:\n",
    "    print(x)"
   ]
  },
  {
   "cell_type": "code",
   "execution_count": 41,
   "metadata": {},
   "outputs": [
    {
     "name": "stdout",
     "output_type": "stream",
     "text": [
      "https://astrogeology.usgs.gov//search/map/Mars/Viking/cerberus_enhanced\n",
      "https://astrogeology.usgs.gov//search/map/Mars/Viking/schiaparelli_enhanced\n",
      "https://astrogeology.usgs.gov//search/map/Mars/Viking/syrtis_major_enhanced\n",
      "https://astrogeology.usgs.gov//search/map/Mars/Viking/valles_marineris_enhanced\n"
     ]
    }
   ],
   "source": [
    "#find all item links\n",
    "links = usgs_soup.find_all('a', class_='itemLink product-item', href=True)\n",
    "\n",
    "#grab url and append to url list\n",
    "for link in links:\n",
    "    if link.text:\n",
    "        x = base_url + link['href']\n",
    "        url.append(x)\n",
    "        print(x)    "
   ]
  },
  {
   "cell_type": "code",
   "execution_count": 42,
   "metadata": {},
   "outputs": [
    {
     "name": "stdout",
     "output_type": "stream",
     "text": [
      "http://astropedia.astrogeology.usgs.gov/download/Mars/Viking/cerberus_enhanced.tif/full.jpg\n",
      "http://astropedia.astrogeology.usgs.gov/download/Mars/Viking/schiaparelli_enhanced.tif/full.jpg\n",
      "http://astropedia.astrogeology.usgs.gov/download/Mars/Viking/syrtis_major_enhanced.tif/full.jpg\n",
      "http://astropedia.astrogeology.usgs.gov/download/Mars/Viking/valles_marineris_enhanced.tif/full.jpg\n"
     ]
    }
   ],
   "source": [
    "#loop through each url to grab image link\n",
    "for page in url:\n",
    "    browser.visit(page)\n",
    "    url_response = browser.html\n",
    "    url_soup = bs(url_response, 'lxml')\n",
    "    \n",
    "    #find all divs with downloads class\n",
    "    divs = url_soup.find_all('div', class_= 'downloads')\n",
    "    \n",
    "    #loop through divs to find img urls\n",
    "    for div in divs:\n",
    "        image = div.find('a')['href']\n",
    "        img_url.append(image)\n",
    "        print(image)\n"
   ]
  },
  {
   "cell_type": "code",
   "execution_count": 64,
   "metadata": {},
   "outputs": [],
   "source": [
    "#create final dictionary and list to hold dictionary\n",
    "mars_dict = {}\n",
    "hemisphere_image_urls = []\n",
    "\n",
    "#loop through title and img_url lists and append to dictionary\n",
    "for x in range(len(title)):\n",
    "    mars_dict = {}\n",
    "    mars_dict['title'] = title[x]\n",
    "    mars_dict['img_url'] = img_url[x]\n",
    "    hemisphere_image_urls.append(mars_dict)"
   ]
  },
  {
   "cell_type": "code",
   "execution_count": 65,
   "metadata": {},
   "outputs": [
    {
     "data": {
      "text/plain": [
       "[{'title': 'Cerberus Hemisphere Enhanced',\n",
       "  'img_url': 'http://astropedia.astrogeology.usgs.gov/download/Mars/Viking/cerberus_enhanced.tif/full.jpg'},\n",
       " {'title': 'Schiaparelli Hemisphere Enhanced',\n",
       "  'img_url': 'http://astropedia.astrogeology.usgs.gov/download/Mars/Viking/schiaparelli_enhanced.tif/full.jpg'},\n",
       " {'title': 'Syrtis Major Hemisphere Enhanced',\n",
       "  'img_url': 'http://astropedia.astrogeology.usgs.gov/download/Mars/Viking/syrtis_major_enhanced.tif/full.jpg'},\n",
       " {'title': 'Valles Marineris Hemisphere Enhanced',\n",
       "  'img_url': 'http://astropedia.astrogeology.usgs.gov/download/Mars/Viking/valles_marineris_enhanced.tif/full.jpg'}]"
      ]
     },
     "execution_count": 65,
     "metadata": {},
     "output_type": "execute_result"
    }
   ],
   "source": [
    "#preview final list of dictionary\n",
    "hemisphere_image_urls"
   ]
  }
 ],
 "metadata": {
  "kernelspec": {
   "display_name": "Python 3",
   "language": "python",
   "name": "python3"
  },
  "language_info": {
   "codemirror_mode": {
    "name": "ipython",
    "version": 3
   },
   "file_extension": ".py",
   "mimetype": "text/x-python",
   "name": "python",
   "nbconvert_exporter": "python",
   "pygments_lexer": "ipython3",
   "version": "3.7.4"
  }
 },
 "nbformat": 4,
 "nbformat_minor": 2
}
